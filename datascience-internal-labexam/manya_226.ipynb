{
  "nbformat": 4,
  "nbformat_minor": 0,
  "metadata": {
    "colab": {
      "provenance": []
    },
    "kernelspec": {
      "name": "python3",
      "display_name": "Python 3"
    },
    "language_info": {
      "name": "python"
    }
  },
  "cells": [
    {
      "cell_type": "code",
      "execution_count": 1,
      "metadata": {
        "id": "VOuKlp-OgvhD"
      },
      "outputs": [],
      "source": [
        "import numpy as np\n",
        "import pandas as pd\n",
        "import matplotlib.pyplot as plt\n",
        "import seaborn as sns"
      ]
    },
    {
      "cell_type": "code",
      "source": [
        "dataset=pd.read_csv(\"/content/sample_data/IMDB Dataset.csv\")"
      ],
      "metadata": {
        "id": "OrYfOGhGh__P"
      },
      "execution_count": 4,
      "outputs": []
    },
    {
      "cell_type": "code",
      "source": [
        "dataset"
      ],
      "metadata": {
        "id": "cxivVP1FiExO"
      },
      "execution_count": null,
      "outputs": []
    },
    {
      "cell_type": "code",
      "source": [
        "dataset['sentiment'].replace(\"positive\",1,inplace=True)\n",
        "dataset['sentiment'].replace(\"negative\",0,inplace=True)"
      ],
      "metadata": {
        "id": "jO0qnNFnkSQe"
      },
      "execution_count": 7,
      "outputs": []
    },
    {
      "cell_type": "code",
      "source": [
        "from sklearn.preprocessing import StandardScaler\n",
        "scaler=StandardScaler()\n",
        "\n"
      ],
      "metadata": {
        "id": "q7XnXnG5mHVm"
      },
      "execution_count": 28,
      "outputs": []
    },
    {
      "cell_type": "code",
      "source": [
        "scaler.fit(dataset.drop('sentiment',axis=1))\n"
      ],
      "metadata": {
        "id": "KWGqNTj9mQUd"
      },
      "execution_count": null,
      "outputs": []
    },
    {
      "cell_type": "code",
      "source": [
        "scaled_features=scaler.transform(datset.drop(\"sentiment\",axis=1))\n",
        "newdataset=pd.DataFrame(scaled_feature,coloumns=dataset.columns[:-1])"
      ],
      "metadata": {
        "id": "0CK4w_wNmSad"
      },
      "execution_count": null,
      "outputs": []
    },
    {
      "cell_type": "code",
      "source": [
        "from sklearn.model_selection import train_test_split\n",
        "x=newdataset\n",
        "y=dataset['sentiment']\n",
        "x_test,x_train,y_test,y_train=train_test_split(x,y,testsize=0.3,random_state=42)\n"
      ],
      "metadata": {
        "id": "QFRJwJ0vmiql"
      },
      "execution_count": null,
      "outputs": []
    },
    {
      "cell_type": "code",
      "source": [
        "\n",
        "from sklearn.naive_bayes import GaussianNB,BernoulltNB,CategoricalNB\n",
        "from sklearn.metrics import confusion_matrix\n",
        "from sklearn.metrics import accuracy_score\n"
      ],
      "metadata": {
        "id": "iJGvTPCgmlOt"
      },
      "execution_count": null,
      "outputs": []
    },
    {
      "cell_type": "code",
      "source": [
        "scores=[]\n",
        "classifier=GaussianNB()\n",
        "classifier.fit(x_train,y_train)\n",
        "y_pred=classifier.predict(x_test)\n",
        "scores.append(accuracy_score(y_test,y_pred)\n",
        "cfm=confusion_matrix(y_test,y_pred)\n",
        "cfm\n",
        "print(scores)\n"
      ],
      "metadata": {
        "id": "75QVM1a8mnHl"
      },
      "execution_count": null,
      "outputs": []
    }
  ]
}